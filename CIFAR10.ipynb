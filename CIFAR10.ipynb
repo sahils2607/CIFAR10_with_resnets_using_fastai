{
  "nbformat": 4,
  "nbformat_minor": 0,
  "metadata": {
    "colab": {
      "name": "CIFAR10.ipynb",
      "provenance": [],
      "collapsed_sections": []
    },
    "kernelspec": {
      "name": "python3",
      "display_name": "Python 3"
    },
    "accelerator": "GPU"
  },
  "cells": [
    {
      "cell_type": "code",
      "metadata": {
        "id": "ydoblF3V6rKs",
        "colab_type": "code",
        "colab": {}
      },
      "source": [
        "import numpy as np\n",
        "import pandas as pd\n",
        "from fastai.vision import * \n",
        "from fastai.metrics import error_rate\n",
        "import torch.nn as nn"
      ],
      "execution_count": 0,
      "outputs": []
    },
    {
      "cell_type": "code",
      "metadata": {
        "id": "6w6CGJLN7ja6",
        "colab_type": "code",
        "colab": {}
      },
      "source": [
        "path=untar_data(URLs.CIFAR)"
      ],
      "execution_count": 0,
      "outputs": []
    },
    {
      "cell_type": "code",
      "metadata": {
        "id": "-XA9wfbW8RuC",
        "colab_type": "code",
        "outputId": "4031d2d2-7288-4811-aaab-b9e2f0d6aef8",
        "colab": {
          "base_uri": "https://localhost:8080/",
          "height": 34
        }
      },
      "source": [
        "path"
      ],
      "execution_count": 0,
      "outputs": [
        {
          "output_type": "execute_result",
          "data": {
            "text/plain": [
              "PosixPath('/root/.fastai/data/cifar10')"
            ]
          },
          "metadata": {
            "tags": []
          },
          "execution_count": 3
        }
      ]
    },
    {
      "cell_type": "code",
      "metadata": {
        "id": "R280dATQ8Xtz",
        "colab_type": "code",
        "outputId": "433c9298-9c0d-4a6b-cd74-e401cf117417",
        "colab": {
          "base_uri": "https://localhost:8080/",
          "height": 84
        }
      },
      "source": [
        "path.ls()"
      ],
      "execution_count": 0,
      "outputs": [
        {
          "output_type": "execute_result",
          "data": {
            "text/plain": [
              "[PosixPath('/root/.fastai/data/cifar10/test'),\n",
              " PosixPath('/root/.fastai/data/cifar10/labels.txt'),\n",
              " PosixPath('/root/.fastai/data/cifar10/train'),\n",
              " PosixPath('/root/.fastai/data/cifar10/models')]"
            ]
          },
          "metadata": {
            "tags": []
          },
          "execution_count": 4
        }
      ]
    },
    {
      "cell_type": "code",
      "metadata": {
        "id": "eBOLmC1_8oA9",
        "colab_type": "code",
        "colab": {}
      },
      "source": [
        "path_train=path/'train'\n",
        "path_label=path/'labels.txt'"
      ],
      "execution_count": 0,
      "outputs": []
    },
    {
      "cell_type": "code",
      "metadata": {
        "id": "j4bQ-Epd9C1T",
        "colab_type": "code",
        "outputId": "1a89b4d1-8bf2-42a5-ab0f-11883ec2b04a",
        "colab": {
          "base_uri": "https://localhost:8080/",
          "height": 34
        }
      },
      "source": [
        "path_label"
      ],
      "execution_count": 0,
      "outputs": [
        {
          "output_type": "execute_result",
          "data": {
            "text/plain": [
              "PosixPath('/root/.fastai/data/cifar10/labels.txt')"
            ]
          },
          "metadata": {
            "tags": []
          },
          "execution_count": 6
        }
      ]
    },
    {
      "cell_type": "code",
      "metadata": {
        "id": "PwcxQRRX9Np6",
        "colab_type": "code",
        "outputId": "38986a2e-f977-4a80-e71d-dca7ace794af",
        "colab": {
          "base_uri": "https://localhost:8080/",
          "height": 202
        }
      },
      "source": [
        "f = open(path_label,mode='r')\n",
        "print(f.read())"
      ],
      "execution_count": 0,
      "outputs": [
        {
          "output_type": "stream",
          "text": [
            "airplane\n",
            "automobile\n",
            "bird\n",
            "cat\n",
            "deer\n",
            "dog\n",
            "frog\n",
            "horse\n",
            "ship\n",
            "truck\n",
            "\n"
          ],
          "name": "stdout"
        }
      ]
    },
    {
      "cell_type": "code",
      "metadata": {
        "id": "s4Jf6G939ou3",
        "colab_type": "code",
        "outputId": "f08b29f4-490f-4707-d955-d4b193e6542b",
        "colab": {
          "base_uri": "https://localhost:8080/",
          "height": 34
        }
      },
      "source": [
        "fnames1=get_image_files(path_train)\n",
        "fnames1[:5]"
      ],
      "execution_count": 0,
      "outputs": [
        {
          "output_type": "execute_result",
          "data": {
            "text/plain": [
              "[]"
            ]
          },
          "metadata": {
            "tags": []
          },
          "execution_count": 8
        }
      ]
    },
    {
      "cell_type": "code",
      "metadata": {
        "id": "2slntP7WTx9k",
        "colab_type": "code",
        "colab": {}
      },
      "source": [
        "bs=64"
      ],
      "execution_count": 0,
      "outputs": []
    },
    {
      "cell_type": "code",
      "metadata": {
        "id": "KAF9R0pWBUl0",
        "colab_type": "code",
        "colab": {}
      },
      "source": [
        "tfms=get_transforms(max_rotate=30,max_zoom=1.1,max_warp=0.26)"
      ],
      "execution_count": 0,
      "outputs": []
    },
    {
      "cell_type": "code",
      "metadata": {
        "id": "5N55sb4P_NUc",
        "colab_type": "code",
        "colab": {}
      },
      "source": [
        "src=ImageList.from_folder(path).split_by_rand_pct(valid_pct=0.2,seed=45).label_from_folder()"
      ],
      "execution_count": 0,
      "outputs": []
    },
    {
      "cell_type": "code",
      "metadata": {
        "id": "phvCsZC2A3-u",
        "colab_type": "code",
        "colab": {}
      },
      "source": [
        "data1=src.transform(tfms=tfms).databunch(bs=bs).normalize()"
      ],
      "execution_count": 0,
      "outputs": []
    },
    {
      "cell_type": "code",
      "metadata": {
        "id": "O-DRQWOFB-6G",
        "colab_type": "code",
        "outputId": "be892887-17f7-4eff-dc21-f8c9a13cb453",
        "colab": {
          "base_uri": "https://localhost:8080/",
          "height": 297
        }
      },
      "source": [
        "data1.show_batch(rows=3,figsize=(4,4))"
      ],
      "execution_count": 0,
      "outputs": [
        {
          "output_type": "display_data",
          "data": {
            "image/png": "[encoded data removed]",
            "text/plain": [
              "<Figure size 288x288 with 9 Axes>"
            ]
          },
          "metadata": {
            "tags": []
          }
        }
      ]
    },
    {
      "cell_type": "code",
      "metadata": {
        "id": "QXVGBB_LCIio",
        "colab_type": "code",
        "outputId": "1b24da5d-5715-47a2-fc40-73555665ec07",
        "colab": {
          "base_uri": "https://localhost:8080/",
          "height": 302
        }
      },
      "source": [
        "data1.batch_stats"
      ],
      "execution_count": 0,
      "outputs": [
        {
          "output_type": "execute_result",
          "data": {
            "text/plain": [
              "<bound method ImageDataBunch.batch_stats of ImageDataBunch;\n",
              "\n",
              "Train: LabelList (48000 items)\n",
              "x: ImageList\n",
              "Image (3, 32, 32),Image (3, 32, 32),Image (3, 32, 32),Image (3, 32, 32),Image (3, 32, 32)\n",
              "y: CategoryList\n",
              "dog,dog,dog,dog,dog\n",
              "Path: /root/.fastai/data/cifar10;\n",
              "\n",
              "Valid: LabelList (12000 items)\n",
              "x: ImageList\n",
              "Image (3, 32, 32),Image (3, 32, 32),Image (3, 32, 32),Image (3, 32, 32),Image (3, 32, 32)\n",
              "y: CategoryList\n",
              "frog,frog,bird,horse,automobile\n",
              "Path: /root/.fastai/data/cifar10;\n",
              "\n",
              "Test: None>"
            ]
          },
          "metadata": {
            "tags": []
          },
          "execution_count": 14
        }
      ]
    },
    {
      "cell_type": "code",
      "metadata": {
        "id": "oS89ChKsDN7E",
        "colab_type": "code",
        "outputId": "fe0e9cbd-2178-49f3-a767-9f855a6508e8",
        "colab": {
          "base_uri": "https://localhost:8080/",
          "height": 185
        }
      },
      "source": [
        "data1.classes"
      ],
      "execution_count": 0,
      "outputs": [
        {
          "output_type": "execute_result",
          "data": {
            "text/plain": [
              "['airplane',\n",
              " 'automobile',\n",
              " 'bird',\n",
              " 'cat',\n",
              " 'deer',\n",
              " 'dog',\n",
              " 'frog',\n",
              " 'horse',\n",
              " 'ship',\n",
              " 'truck']"
            ]
          },
          "metadata": {
            "tags": []
          },
          "execution_count": 15
        }
      ]
    },
    {
      "cell_type": "code",
      "metadata": {
        "id": "cYnHob7MIXMc",
        "colab_type": "code",
        "outputId": "8b63054d-d34a-46c8-b36a-114369d96d94",
        "colab": {
          "base_uri": "https://localhost:8080/",
          "height": 101
        }
      },
      "source": [
        "help(res_block)"
      ],
      "execution_count": 0,
      "outputs": [
        {
          "output_type": "stream",
          "text": [
            "Help on function res_block in module fastai.layers:\n",
            "\n",
            "res_block(nf, dense:bool=False, norm_type:Union[fastai.layers.NormType, NoneType]=<NormType.Batch: 1>, bottle:bool=False, **conv_kwargs)\n",
            "    Resnet block of `nf` features. `conv_kwargs` are passed to `conv_layer`.\n",
            "\n"
          ],
          "name": "stdout"
        }
      ]
    },
    {
      "cell_type": "code",
      "metadata": {
        "id": "zjGvAY88IcT2",
        "colab_type": "code",
        "outputId": "5fd653ac-38fe-4151-c21d-62d15390d276",
        "colab": {
          "base_uri": "https://localhost:8080/",
          "height": 189
        }
      },
      "source": [
        "doc(res_block)"
      ],
      "execution_count": 0,
      "outputs": [
        {
          "output_type": "display_data",
          "data": {
            "text/html": [
              "<h4 id=\"res_block\" class=\"doc_header\"><code>res_block</code><a href=\"https://github.com/fastai/fastai/blob/master/fastai/layers.py#L152\" class=\"source_link\" style=\"float:right\">[source]</a><a class=\"source_link\" data-toggle=\"collapse\" data-target=\"#res_block-pytest\" style=\"float:right; padding-right:10px\">[test]</a></h4><blockquote><p><code>res_block</code>(<strong><code>nf</code></strong>, <strong><code>dense</code></strong>:<code>bool</code>=<strong><em><code>False</code></em></strong>, <strong><code>norm_type</code></strong>:<code>Optional</code>[<a href=\"https://docs.fast.ai/layers.html#NormType\"><code>NormType</code></a>]=<strong><em><code>&lt;NormType.Batch: 1&gt;</code></em></strong>, <strong><code>bottle</code></strong>:<code>bool</code>=<strong><em><code>False</code></em></strong>, <strong>**<code>conv_kwargs</code></strong>)</p>\n",
              "</blockquote>\n",
              "<div class=\"collapse\" id=\"res_block-pytest\"><div class=\"card card-body pytest_card\"><a type=\"button\" data-toggle=\"collapse\" data-target=\"#res_block-pytest\" class=\"close\" aria-label=\"Close\"><span aria-hidden=\"true\">&times;</span></a><p>No tests found for <code>res_block</code>. To contribute a test please refer to <a href=\"/dev/test.html\">this guide</a> and <a href=\"https://forums.fast.ai/t/improving-expanding-functional-tests/32929\">this discussion</a>.</p></div></div><p>Resnet block of <code>nf</code> features. <code>conv_kwargs</code> are passed to <a href=\"https://docs.fast.ai/layers.html#conv_layer\"><code>conv_layer</code></a>.</p>\n",
              "<p><a href=\"https://docs.fast.ai/layers.html#res_block\" target=\"_blank\" rel=\"noreferrer noopener\">Show in docs</a></p>\n"
            ],
            "text/plain": [
              "<IPython.core.display.HTML object>"
            ]
          },
          "metadata": {
            "tags": []
          }
        }
      ]
    },
    {
      "cell_type": "code",
      "metadata": {
        "id": "i_cbRFjQJGy0",
        "colab_type": "code",
        "outputId": "efe12c1d-e58b-4eb0-df2b-7c80d53fe9b7",
        "colab": {
          "base_uri": "https://localhost:8080/",
          "height": 206
        }
      },
      "source": [
        "doc(conv_layer)"
      ],
      "execution_count": 0,
      "outputs": [
        {
          "output_type": "display_data",
          "data": {
            "text/html": [
              "<h4 id=\"conv_layer\" class=\"doc_header\"><code>conv_layer</code><a href=\"https://github.com/fastai/fastai/blob/master/fastai/layers.py#L111\" class=\"source_link\" style=\"float:right\">[source]</a><a class=\"source_link\" data-toggle=\"collapse\" data-target=\"#conv_layer-pytest\" style=\"float:right; padding-right:10px\">[test]</a></h4><blockquote><p><code>conv_layer</code>(<strong><code>ni</code></strong>:<code>int</code>, <strong><code>nf</code></strong>:<code>int</code>, <strong><code>ks</code></strong>:<code>int</code>=<strong><em><code>3</code></em></strong>, <strong><code>stride</code></strong>:<code>int</code>=<strong><em><code>1</code></em></strong>, <strong><code>padding</code></strong>:<code>int</code>=<strong><em><code>None</code></em></strong>, <strong><code>bias</code></strong>:<code>bool</code>=<strong><em><code>None</code></em></strong>, <strong><code>is_1d</code></strong>:<code>bool</code>=<strong><em><code>False</code></em></strong>, <strong><code>norm_type</code></strong>:<code>Optional</code>[<a href=\"https://docs.fast.ai/layers.html#NormType\"><code>NormType</code></a>]=<strong><em><code>&lt;NormType.Batch: 1&gt;</code></em></strong>, <strong><code>use_activ</code></strong>:<code>bool</code>=<strong><em><code>True</code></em></strong>, <strong><code>leaky</code></strong>:<code>float</code>=<strong><em><code>None</code></em></strong>, <strong><code>transpose</code></strong>:<code>bool</code>=<strong><em><code>False</code></em></strong>, <strong><code>init</code></strong>:<code>Callable</code>=<strong><em><code>'kaiming_normal_'</code></em></strong>, <strong><code>self_attention</code></strong>:<code>bool</code>=<strong><em><code>False</code></em></strong>)</p>\n",
              "</blockquote>\n",
              "<div class=\"collapse\" id=\"conv_layer-pytest\"><div class=\"card card-body pytest_card\"><a type=\"button\" data-toggle=\"collapse\" data-target=\"#conv_layer-pytest\" class=\"close\" aria-label=\"Close\"><span aria-hidden=\"true\">&times;</span></a><p>No tests found for <code>conv_layer</code>. To contribute a test please refer to <a href=\"/dev/test.html\">this guide</a> and <a href=\"https://forums.fast.ai/t/improving-expanding-functional-tests/32929\">this discussion</a>.</p></div></div><p>Create a sequence of convolutional (<code>ni</code> to <code>nf</code>), ReLU (if <code>use_activ</code>) and batchnorm (if <code>bn</code>) layers.</p>\n",
              "<p><a href=\"https://docs.fast.ai/layers.html#conv_layer\" target=\"_blank\" rel=\"noreferrer noopener\">Show in docs</a></p>\n"
            ],
            "text/plain": [
              "<IPython.core.display.HTML object>"
            ]
          },
          "metadata": {
            "tags": []
          }
        }
      ]
    },
    {
      "cell_type": "code",
      "metadata": {
        "id": "wkZ5ufabJq4j",
        "colab_type": "code",
        "colab": {}
      },
      "source": [
        "def conv2(ni,nf):\n",
        "  return nn.Sequential(nn.Conv2d(ni,nf,kernel_size=3,stride=2,padding=1),nn.ReLU(),nn.BatchNorm2d(nf))"
      ],
      "execution_count": 0,
      "outputs": []
    },
    {
      "cell_type": "code",
      "metadata": {
        "id": "WLQqEc2fHM_u",
        "colab_type": "code",
        "colab": {}
      },
      "source": [
        "def conv21(ni,nf): return conv_layer(ni,nf,stride=2)"
      ],
      "execution_count": 0,
      "outputs": []
    },
    {
      "cell_type": "code",
      "metadata": {
        "id": "ldRh4iiqKG2r",
        "colab_type": "code",
        "colab": {}
      },
      "source": [
        "class Resblock(nn.Module):\n",
        "  def __init__(self,nf):\n",
        "    super().__init__()\n",
        "    self.conve1=conv2(nf,nf)\n",
        "    self.conve2=conv2(nf,nf)\n",
        "  def forward(self,x):\n",
        "    return x+self.conve2(self.conve1(x))\n"
      ],
      "execution_count": 0,
      "outputs": []
    },
    {
      "cell_type": "code",
      "metadata": {
        "id": "pCqYpqgHDqiM",
        "colab_type": "code",
        "colab": {}
      },
      "source": [
        "class model_CIFAR10(nn.Module):\n",
        "  def __init__(self):\n",
        "    super(model_CIFAR10,self).__init__()\n",
        "    self.Res1=res_block(3)\n",
        "    self.con1=conv21(3,8)\n",
        "    self.Res2=res_block(8)\n",
        "    self.con2=conv21(8,16)\n",
        "    self.Res3=res_block(16)\n",
        "    self.con3=conv21(16,48)\n",
        "    self.Res4=res_block(48)\n",
        "    self.con4=conv21(48,24)\n",
        "    self.Res5=res_block(24)\n",
        "    self.con5=conv21(24,10)\n",
        "    self.Flat=Flatten()\n",
        "  def forward(self,x):\n",
        "    return self.Flat(self.con5(self.Res5(self.con4(self.Res4(self.con3(self.Res3(self.con2(self.Res2(self.con1(self.Res1(x)))))))))))\n",
        "\n",
        "\n",
        "\n"
      ],
      "execution_count": 0,
      "outputs": []
    },
    {
      "cell_type": "code",
      "metadata": {
        "id": "a8i32N4PP9ZS",
        "colab_type": "code",
        "colab": {}
      },
      "source": [
        "model=nn.Sequential(\n",
        "   res_block(3),\n",
        "   conv21(3,8),\n",
        "   res_block(8),\n",
        "   conv21(8,16),\n",
        "   res_block(16),\n",
        "   conv21(16,48),\n",
        "   res_block(48),\n",
        "   conv21(48,24),\n",
        "   res_block(24),\n",
        "   conv21(24,10),\n",
        "   Flatten()\n",
        "\n",
        ")"
      ],
      "execution_count": 0,
      "outputs": []
    },
    {
      "cell_type": "code",
      "metadata": {
        "id": "rGfvddo6HM_d",
        "colab_type": "code",
        "colab": {}
      },
      "source": [
        "learn = Learner(data1, model, loss_func = nn.CrossEntropyLoss(), metrics=accuracy)"
      ],
      "execution_count": 0,
      "outputs": []
    },
    {
      "cell_type": "code",
      "metadata": {
        "id": "XKWLa9tnPyfo",
        "colab_type": "code",
        "outputId": "5d4ddb53-7168-4314-b54b-7b28308725aa",
        "colab": {
          "base_uri": "https://localhost:8080/",
          "height": 1000
        }
      },
      "source": [
        "print(learn.summary())"
      ],
      "execution_count": 0,
      "outputs": [
        {
          "output_type": "stream",
          "text": [
            "Sequential\n",
            "======================================================================\n",
            "Layer (type)         Output Shape         Param #    Trainable \n",
            "======================================================================\n",
            "Conv2d               [3, 32, 32]          81         True      \n",
            "______________________________________________________________________\n",
            "ReLU                 [3, 32, 32]          0          False     \n",
            "______________________________________________________________________\n",
            "BatchNorm2d          [3, 32, 32]          6          True      \n",
            "______________________________________________________________________\n",
            "Conv2d               [3, 32, 32]          81         True      \n",
            "______________________________________________________________________\n",
            "ReLU                 [3, 32, 32]          0          False     \n",
            "______________________________________________________________________\n",
            "BatchNorm2d          [3, 32, 32]          6          True      \n",
            "______________________________________________________________________\n",
            "MergeLayer           [3, 32, 32]          0          False     \n",
            "______________________________________________________________________\n",
            "Conv2d               [8, 16, 16]          216        True      \n",
            "______________________________________________________________________\n",
            "ReLU                 [8, 16, 16]          0          False     \n",
            "______________________________________________________________________\n",
            "BatchNorm2d          [8, 16, 16]          16         True      \n",
            "______________________________________________________________________\n",
            "Conv2d               [8, 16, 16]          576        True      \n",
            "______________________________________________________________________\n",
            "ReLU                 [8, 16, 16]          0          False     \n",
            "______________________________________________________________________\n",
            "BatchNorm2d          [8, 16, 16]          16         True      \n",
            "______________________________________________________________________\n",
            "Conv2d               [8, 16, 16]          576        True      \n",
            "______________________________________________________________________\n",
            "ReLU                 [8, 16, 16]          0          False     \n",
            "______________________________________________________________________\n",
            "BatchNorm2d          [8, 16, 16]          16         True      \n",
            "______________________________________________________________________\n",
            "MergeLayer           [8, 16, 16]          0          False     \n",
            "______________________________________________________________________\n",
            "Conv2d               [16, 8, 8]           1,152      True      \n",
            "______________________________________________________________________\n",
            "ReLU                 [16, 8, 8]           0          False     \n",
            "______________________________________________________________________\n",
            "BatchNorm2d          [16, 8, 8]           32         True      \n",
            "______________________________________________________________________\n",
            "Conv2d               [16, 8, 8]           2,304      True      \n",
            "______________________________________________________________________\n",
            "ReLU                 [16, 8, 8]           0          False     \n",
            "______________________________________________________________________\n",
            "BatchNorm2d          [16, 8, 8]           32         True      \n",
            "______________________________________________________________________\n",
            "Conv2d               [16, 8, 8]           2,304      True      \n",
            "______________________________________________________________________\n",
            "ReLU                 [16, 8, 8]           0          False     \n",
            "______________________________________________________________________\n",
            "BatchNorm2d          [16, 8, 8]           32         True      \n",
            "______________________________________________________________________\n",
            "MergeLayer           [16, 8, 8]           0          False     \n",
            "______________________________________________________________________\n",
            "Conv2d               [48, 4, 4]           6,912      True      \n",
            "______________________________________________________________________\n",
            "ReLU                 [48, 4, 4]           0          False     \n",
            "______________________________________________________________________\n",
            "BatchNorm2d          [48, 4, 4]           96         True      \n",
            "______________________________________________________________________\n",
            "Conv2d               [48, 4, 4]           20,736     True      \n",
            "______________________________________________________________________\n",
            "ReLU                 [48, 4, 4]           0          False     \n",
            "______________________________________________________________________\n",
            "BatchNorm2d          [48, 4, 4]           96         True      \n",
            "______________________________________________________________________\n",
            "Conv2d               [48, 4, 4]           20,736     True      \n",
            "______________________________________________________________________\n",
            "ReLU                 [48, 4, 4]           0          False     \n",
            "______________________________________________________________________\n",
            "BatchNorm2d          [48, 4, 4]           96         True      \n",
            "______________________________________________________________________\n",
            "MergeLayer           [48, 4, 4]           0          False     \n",
            "______________________________________________________________________\n",
            "Conv2d               [24, 2, 2]           10,368     True      \n",
            "______________________________________________________________________\n",
            "ReLU                 [24, 2, 2]           0          False     \n",
            "______________________________________________________________________\n",
            "BatchNorm2d          [24, 2, 2]           48         True      \n",
            "______________________________________________________________________\n",
            "Conv2d               [24, 2, 2]           5,184      True      \n",
            "______________________________________________________________________\n",
            "ReLU                 [24, 2, 2]           0          False     \n",
            "______________________________________________________________________\n",
            "BatchNorm2d          [24, 2, 2]           48         True      \n",
            "______________________________________________________________________\n",
            "Conv2d               [24, 2, 2]           5,184      True      \n",
            "______________________________________________________________________\n",
            "ReLU                 [24, 2, 2]           0          False     \n",
            "______________________________________________________________________\n",
            "BatchNorm2d          [24, 2, 2]           48         True      \n",
            "______________________________________________________________________\n",
            "MergeLayer           [24, 2, 2]           0          False     \n",
            "______________________________________________________________________\n",
            "Conv2d               [10, 1, 1]           2,160      True      \n",
            "______________________________________________________________________\n",
            "ReLU                 [10, 1, 1]           0          False     \n",
            "______________________________________________________________________\n",
            "BatchNorm2d          [10, 1, 1]           20         True      \n",
            "______________________________________________________________________\n",
            "Flatten              [10]                 0          False     \n",
            "______________________________________________________________________\n",
            "\n",
            "Total params: 79,178\n",
            "Total trainable params: 79,178\n",
            "Total non-trainable params: 0\n",
            "Optimized with 'torch.optim.adam.Adam', betas=(0.9, 0.99)\n",
            "Using true weight decay as discussed in https://www.fast.ai/2018/07/02/adam-weight-decay/ \n",
            "Loss function : CrossEntropyLoss\n",
            "======================================================================\n",
            "Callbacks functions applied \n",
            "\n"
          ],
          "name": "stdout"
        }
      ]
    },
    {
      "cell_type": "code",
      "metadata": {
        "id": "cvYSy7imUazv",
        "colab_type": "code",
        "outputId": "d46fc1b1-7c88-433f-f4a5-6e25f2856441",
        "colab": {
          "base_uri": "https://localhost:8080/",
          "height": 34
        }
      },
      "source": [
        "learn.lr_find(end_lr=100)\n"
      ],
      "execution_count": 0,
      "outputs": [
        {
          "output_type": "display_data",
          "data": {
            "text/html": [
              ""
            ],
            "text/plain": [
              "<IPython.core.display.HTML object>"
            ]
          },
          "metadata": {
            "tags": []
          }
        },
        {
          "output_type": "stream",
          "text": [
            "LR Finder is complete, type {learner_name}.recorder.plot() to see the graph.\n"
          ],
          "name": "stdout"
        }
      ]
    },
    {
      "cell_type": "code",
      "metadata": {
        "id": "L7O6Idv4UxGb",
        "colab_type": "code",
        "outputId": "3969122e-47d0-4430-ea04-9edac57c5577",
        "colab": {
          "base_uri": "https://localhost:8080/",
          "height": 280
        }
      },
      "source": [
        "learn.recorder.plot()"
      ],
      "execution_count": 0,
      "outputs": [
        {
          "output_type": "display_data",
          "data": {
            "image/png": "[encoded data removed]",
            "text/plain": [
              "<Figure size 432x288 with 1 Axes>"
            ]
          },
          "metadata": {
            "tags": []
          }
        }
      ]
    },
    {
      "cell_type": "code",
      "metadata": {
        "id": "_Yzmi6b-U03A",
        "colab_type": "code",
        "outputId": "38f911a6-864b-491a-bfa9-0b045ab60d2c",
        "colab": {
          "base_uri": "https://localhost:8080/",
          "height": 136
        }
      },
      "source": [
        "learn.fit_one_cycle(3,max_lr=0.1)"
      ],
      "execution_count": 0,
      "outputs": [
        {
          "output_type": "display_data",
          "data": {
            "text/html": [
              "<table border=\"1\" class=\"dataframe\">\n",
              "  <thead>\n",
              "    <tr style=\"text-align: left;\">\n",
              "      <th>epoch</th>\n",
              "      <th>train_loss</th>\n",
              "      <th>valid_loss</th>\n",
              "      <th>accuracy</th>\n",
              "      <th>time</th>\n",
              "    </tr>\n",
              "  </thead>\n",
              "  <tbody>\n",
              "    <tr>\n",
              "      <td>0</td>\n",
              "      <td>1.657751</td>\n",
              "      <td>1.833211</td>\n",
              "      <td>0.377750</td>\n",
              "      <td>01:38</td>\n",
              "    </tr>\n",
              "    <tr>\n",
              "      <td>1</td>\n",
              "      <td>1.420383</td>\n",
              "      <td>1.278013</td>\n",
              "      <td>0.535583</td>\n",
              "      <td>01:38</td>\n",
              "    </tr>\n",
              "    <tr>\n",
              "      <td>2</td>\n",
              "      <td>1.266825</td>\n",
              "      <td>1.106426</td>\n",
              "      <td>0.607583</td>\n",
              "      <td>01:38</td>\n",
              "    </tr>\n",
              "  </tbody>\n",
              "</table>"
            ],
            "text/plain": [
              "<IPython.core.display.HTML object>"
            ]
          },
          "metadata": {
            "tags": []
          }
        }
      ]
    },
    {
      "cell_type": "code",
      "metadata": {
        "id": "OHIyyijrVE1s",
        "colab_type": "code",
        "outputId": "178e0fd1-ee9b-4c2a-ccfc-8a62fa3137bc",
        "colab": {
          "base_uri": "https://localhost:8080/",
          "height": 343
        }
      },
      "source": [
        "learn.fit_one_cycle(10,max_lr=0.05s)"
      ],
      "execution_count": 0,
      "outputs": [
        {
          "output_type": "display_data",
          "data": {
            "text/html": [
              "<table border=\"1\" class=\"dataframe\">\n",
              "  <thead>\n",
              "    <tr style=\"text-align: left;\">\n",
              "      <th>epoch</th>\n",
              "      <th>train_loss</th>\n",
              "      <th>valid_loss</th>\n",
              "      <th>accuracy</th>\n",
              "      <th>time</th>\n",
              "    </tr>\n",
              "  </thead>\n",
              "  <tbody>\n",
              "    <tr>\n",
              "      <td>0</td>\n",
              "      <td>1.228807</td>\n",
              "      <td>1.087659</td>\n",
              "      <td>0.612333</td>\n",
              "      <td>01:38</td>\n",
              "    </tr>\n",
              "    <tr>\n",
              "      <td>1</td>\n",
              "      <td>1.294088</td>\n",
              "      <td>1.132342</td>\n",
              "      <td>0.596833</td>\n",
              "      <td>01:39</td>\n",
              "    </tr>\n",
              "    <tr>\n",
              "      <td>2</td>\n",
              "      <td>1.259467</td>\n",
              "      <td>1.526497</td>\n",
              "      <td>0.488083</td>\n",
              "      <td>01:39</td>\n",
              "    </tr>\n",
              "    <tr>\n",
              "      <td>3</td>\n",
              "      <td>1.237116</td>\n",
              "      <td>1.065682</td>\n",
              "      <td>0.616500</td>\n",
              "      <td>01:39</td>\n",
              "    </tr>\n",
              "    <tr>\n",
              "      <td>4</td>\n",
              "      <td>1.149444</td>\n",
              "      <td>1.158337</td>\n",
              "      <td>0.596917</td>\n",
              "      <td>01:39</td>\n",
              "    </tr>\n",
              "    <tr>\n",
              "      <td>5</td>\n",
              "      <td>1.100082</td>\n",
              "      <td>0.983434</td>\n",
              "      <td>0.662750</td>\n",
              "      <td>01:39</td>\n",
              "    </tr>\n",
              "    <tr>\n",
              "      <td>6</td>\n",
              "      <td>1.026573</td>\n",
              "      <td>0.891670</td>\n",
              "      <td>0.687333</td>\n",
              "      <td>01:39</td>\n",
              "    </tr>\n",
              "    <tr>\n",
              "      <td>7</td>\n",
              "      <td>0.959388</td>\n",
              "      <td>0.835251</td>\n",
              "      <td>0.707250</td>\n",
              "      <td>01:39</td>\n",
              "    </tr>\n",
              "    <tr>\n",
              "      <td>8</td>\n",
              "      <td>0.925062</td>\n",
              "      <td>0.789910</td>\n",
              "      <td>0.726167</td>\n",
              "      <td>01:39</td>\n",
              "    </tr>\n",
              "    <tr>\n",
              "      <td>9</td>\n",
              "      <td>0.906453</td>\n",
              "      <td>0.768484</td>\n",
              "      <td>0.730583</td>\n",
              "      <td>01:39</td>\n",
              "    </tr>\n",
              "  </tbody>\n",
              "</table>"
            ],
            "text/plain": [
              "<IPython.core.display.HTML object>"
            ]
          },
          "metadata": {
            "tags": []
          }
        }
      ]
    }
  ]
}